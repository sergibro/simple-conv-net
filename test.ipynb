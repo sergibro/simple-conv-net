{
 "cells": [
  {
   "cell_type": "markdown",
   "metadata": {},
   "source": [
    "### define"
   ]
  },
  {
   "cell_type": "code",
   "execution_count": 1,
   "metadata": {
   },
   "outputs": [],
   "source": [
    "%autoreload 2\n",
    "import torch\n",
    "from torchvision import datasets, transforms\n",
    "import argparse\n",
    "from simple_conv_net_func import diff_mse\n",
    "from simple_conv_net_func import conv2d_scalar, pool2d_scalar, relu_scalar, reshape_scalar, fc_layer_scalar\n",
    "from simple_conv_net_func import conv2d_vector, pool2d_vector, relu_vector, reshape_vector, fc_layer_vector, im2col"
   ]
  },
  {
   "cell_type": "code",
   "execution_count": 2,
   "metadata": {
   },
   "outputs": [],
   "source": [
    "N_batch = 4  # bacth size, default 64\n",
    "C = 1  # number of input channels\n",
    "S = 28  # input image size\n",
    "B = 20  # number of filters\n",
    "K = 5  # kernel size\n",
    "fc1_out = 500  # fc1 layer output units\n",
    "N_classes = 10\n",
    "epochs_num = 20\n",
    "alpha = 0.01\n",
    "momentum = 0.5"
   ]
  },
  {
   "cell_type": "code",
   "execution_count": 3,
   "metadata": {
   },
   "outputs": [
    {
     "data": {
      "text/plain": [
       "device(type='cpu')"
      ]
     },
     "execution_count": 3,
     "metadata": {},
     "output_type": "execute_result"
    }
   ],
   "source": [
    "use_cuda = torch.cuda.is_available()\n",
    "device = torch.device(\"cuda\" if use_cuda else \"cpu\")\n",
    "device"
   ]
  },
  {
   "cell_type": "code",
   "execution_count": 4,
   "metadata": {
   },
   "outputs": [
    {
     "data": {
      "text/plain": [
       "torch.Size([4, 1, 28, 28])"
      ]
     },
     "execution_count": 4,
     "metadata": {},
     "output_type": "execute_result"
    }
   ],
   "source": [
    "x = torch.randn(N_batch, C, S, S).to(device)\n",
    "# w = torch.randn(B, C, K, K).to(device)\n",
    "# b = torch.randn(B).to(device)\n",
    "x.shape#, w.shape, b.shape"
   ]
  },
  {
   "cell_type": "code",
   "execution_count": 5,
   "metadata": {
   },
   "outputs": [
    {
     "data": {
      "text/plain": [
       "-1"
      ]
     },
     "execution_count": 5,
     "metadata": {},
     "output_type": "execute_result"
    }
   ],
   "source": [
    "x.get_device()"
   ]
  },
  {
   "cell_type": "markdown",
   "metadata": {
    "heading_collapsed": true
   },
   "source": [
    "## scalar"
   ]
  },
  {
   "cell_type": "markdown",
   "metadata": {
    "heading_collapsed": true,
    "hidden": true
   },
   "source": [
    "### conv"
   ]
  },
  {
   "cell_type": "code",
   "execution_count": 6,
   "metadata": {
    "hidden": true
   },
   "outputs": [
    {
     "data": {
      "text/plain": [
       "(torch.Size([20, 1, 5, 5]), torch.Size([20]))"
      ]
     },
     "execution_count": 6,
     "metadata": {},
     "output_type": "execute_result"
    }
   ],
   "source": [
    "cl = torch.nn.Conv2d(in_channels=C, out_channels=B, kernel_size=K)\n",
    "w_conv = cl.weight\n",
    "b_conv = cl.bias\n",
    "w_conv.shape, b_conv.shape"
   ]
  },
  {
   "cell_type": "code",
   "execution_count": 7,
   "metadata": {
    "hidden": true
   },
   "outputs": [
    {
     "name": "stdout",
     "output_type": "stream",
     "text": [
      "CPU times: user 23.2 s, sys: 4.81 ms, total: 23.2 s\n",
      "Wall time: 23.2 s\n"
     ]
    },
    {
     "data": {
      "text/plain": [
       "torch.Size([4, 20, 24, 24])"
      ]
     },
     "execution_count": 7,
     "metadata": {},
     "output_type": "execute_result"
    }
   ],
   "source": [
    "with torch.no_grad():\n",
    "    %time z_conv = conv2d_scalar(x, w_conv, b_conv, device)\n",
    "z_conv.shape"
   ]
  },
  {
   "cell_type": "code",
   "execution_count": 8,
   "metadata": {
    "hidden": true
   },
   "outputs": [
    {
     "name": "stdout",
     "output_type": "stream",
     "text": [
      "CPU times: user 784 µs, sys: 36 µs, total: 820 µs\n",
      "Wall time: 599 µs\n"
     ]
    },
    {
     "data": {
      "text/plain": [
       "torch.Size([4, 20, 24, 24])"
      ]
     },
     "execution_count": 8,
     "metadata": {},
     "output_type": "execute_result"
    }
   ],
   "source": [
    "with torch.no_grad():\n",
    "    %time torch_z_conv = cl(x)\n",
    "torch_z_conv.shape"
   ]
  },
  {
   "cell_type": "code",
   "execution_count": 9,
   "metadata": {
    "hidden": true
   },
   "outputs": [
    {
     "data": {
      "text/plain": [
       "3.95232052990903e-15"
      ]
     },
     "execution_count": 9,
     "metadata": {},
     "output_type": "execute_result"
    }
   ],
   "source": [
    "diff_mse(z_conv, torch_z_conv)"
   ]
  },
  {
   "cell_type": "markdown",
   "metadata": {
    "heading_collapsed": true,
    "hidden": true
   },
   "source": [
    "### pool"
   ]
  },
  {
   "cell_type": "code",
   "execution_count": 10,
   "metadata": {
    "hidden": true
   },
   "outputs": [
    {
     "name": "stdout",
     "output_type": "stream",
     "text": [
      "CPU times: user 354 ms, sys: 4.11 ms, total: 359 ms\n",
      "Wall time: 358 ms\n"
     ]
    },
    {
     "data": {
      "text/plain": [
       "torch.Size([4, 20, 12, 12])"
      ]
     },
     "execution_count": 10,
     "metadata": {},
     "output_type": "execute_result"
    }
   ],
   "source": [
    "with torch.no_grad():\n",
    "    %time z_pool = pool2d_scalar(torch_z_conv, device)\n",
    "z_pool.shape"
   ]
  },
  {
   "cell_type": "code",
   "execution_count": 11,
   "metadata": {
    "hidden": true
   },
   "outputs": [
    {
     "name": "stdout",
     "output_type": "stream",
     "text": [
      "CPU times: user 192 µs, sys: 10 µs, total: 202 µs\n",
      "Wall time: 204 µs\n"
     ]
    },
    {
     "data": {
      "text/plain": [
       "torch.Size([4, 20, 12, 12])"
      ]
     },
     "execution_count": 11,
     "metadata": {},
     "output_type": "execute_result"
    }
   ],
   "source": [
    "with torch.no_grad():\n",
    "    %time torch_z_pool = torch.max_pool2d(torch_z_conv, 2)\n",
    "torch_z_pool.shape"
   ]
  },
  {
   "cell_type": "code",
   "execution_count": 12,
   "metadata": {
    "hidden": true
   },
   "outputs": [
    {
     "data": {
      "text/plain": [
       "0.0"
      ]
     },
     "execution_count": 12,
     "metadata": {},
     "output_type": "execute_result"
    }
   ],
   "source": [
    "diff_mse(z_pool, torch_z_pool)"
   ]
  },
  {
   "cell_type": "markdown",
   "metadata": {
    "heading_collapsed": true,
    "hidden": true
   },
   "source": [
    "### reshape"
   ]
  },
  {
   "cell_type": "code",
   "execution_count": 13,
   "metadata": {
    "hidden": true
   },
   "outputs": [
    {
     "name": "stdout",
     "output_type": "stream",
     "text": [
      "CPU times: user 90.4 ms, sys: 0 ns, total: 90.4 ms\n",
      "Wall time: 89.9 ms\n"
     ]
    },
    {
     "data": {
      "text/plain": [
       "torch.Size([4, 2880])"
      ]
     },
     "execution_count": 13,
     "metadata": {},
     "output_type": "execute_result"
    }
   ],
   "source": [
    "with torch.no_grad():\n",
    "    %time z_reshaped = reshape_scalar(z_pool, device)\n",
    "z_reshaped.shape"
   ]
  },
  {
   "cell_type": "code",
   "execution_count": 14,
   "metadata": {
    "hidden": true
   },
   "outputs": [
    {
     "name": "stdout",
     "output_type": "stream",
     "text": [
      "CPU times: user 28 µs, sys: 1e+03 ns, total: 29 µs\n",
      "Wall time: 31.2 µs\n"
     ]
    },
    {
     "data": {
      "text/plain": [
       "torch.Size([4, 2880])"
      ]
     },
     "execution_count": 14,
     "metadata": {},
     "output_type": "execute_result"
    }
   ],
   "source": [
    "with torch.no_grad():\n",
    "    # %time torch_z_reshaped = torch.reshape(torch_z_pool, (N_batch, -1))\n",
    "    %time torch_z_reshaped = torch_z_pool.view(N_batch, -1)\n",
    "torch_z_reshaped.shape"
   ]
  },
  {
   "cell_type": "code",
   "execution_count": 15,
   "metadata": {
    "hidden": true
   },
   "outputs": [
    {
     "data": {
      "text/plain": [
       "0.0"
      ]
     },
     "execution_count": 15,
     "metadata": {},
     "output_type": "execute_result"
    }
   ],
   "source": [
    "diff_mse(z_reshaped, torch_z_reshaped)"
   ]
  },
  {
   "cell_type": "markdown",
   "metadata": {
    "heading_collapsed": true,
    "hidden": true
   },
   "source": [
    "### relu"
   ]
  },
  {
   "cell_type": "code",
   "execution_count": 16,
   "metadata": {
    "hidden": true
   },
   "outputs": [
    {
     "name": "stdout",
     "output_type": "stream",
     "text": [
      "CPU times: user 121 ms, sys: 58 µs, total: 121 ms\n",
      "Wall time: 121 ms\n"
     ]
    },
    {
     "data": {
      "text/plain": [
       "torch.Size([4, 2880])"
      ]
     },
     "execution_count": 16,
     "metadata": {},
     "output_type": "execute_result"
    }
   ],
   "source": [
    "with torch.no_grad():\n",
    "    %time z_relu = relu_scalar(torch_z_reshaped, device)\n",
    "z_relu.shape"
   ]
  },
  {
   "cell_type": "code",
   "execution_count": 17,
   "metadata": {
    "hidden": true
   },
   "outputs": [
    {
     "name": "stdout",
     "output_type": "stream",
     "text": [
      "CPU times: user 69 µs, sys: 4 µs, total: 73 µs\n",
      "Wall time: 89.2 µs\n"
     ]
    },
    {
     "data": {
      "text/plain": [
       "torch.Size([4, 2880])"
      ]
     },
     "execution_count": 17,
     "metadata": {},
     "output_type": "execute_result"
    }
   ],
   "source": [
    "with torch.no_grad():\n",
    "    %time torch_z_relu = torch.relu(torch_z_reshaped)\n",
    "torch_z_relu.shape"
   ]
  },
  {
   "cell_type": "code",
   "execution_count": 18,
   "metadata": {
    "hidden": true
   },
   "outputs": [
    {
     "data": {
      "text/plain": [
       "0.0"
      ]
     },
     "execution_count": 18,
     "metadata": {},
     "output_type": "execute_result"
    }
   ],
   "source": [
    "diff_mse(z_relu, torch_z_relu)"
   ]
  },
  {
   "cell_type": "markdown",
   "metadata": {
    "heading_collapsed": true,
    "hidden": true
   },
   "source": [
    "### fc"
   ]
  },
  {
   "cell_type": "code",
   "execution_count": 19,
   "metadata": {
    "hidden": true
   },
   "outputs": [],
   "source": [
    "fc = torch.nn.Linear(torch_z_reshaped.size(-1), N_classes)\n",
    "w_fc = fc.weight\n",
    "b_fc = fc.bias"
   ]
  },
  {
   "cell_type": "code",
   "execution_count": 20,
   "metadata": {
    "hidden": true
   },
   "outputs": [
    {
     "name": "stdout",
     "output_type": "stream",
     "text": [
      "CPU times: user 1.56 s, sys: 0 ns, total: 1.56 s\n",
      "Wall time: 1.56 s\n"
     ]
    },
    {
     "data": {
      "text/plain": [
       "torch.Size([4, 10])"
      ]
     },
     "execution_count": 20,
     "metadata": {},
     "output_type": "execute_result"
    }
   ],
   "source": [
    "with torch.no_grad():\n",
    "    %time z_fc = fc_layer_scalar(torch_z_reshaped, w_fc, b_fc, device)\n",
    "z_fc.shape"
   ]
  },
  {
   "cell_type": "code",
   "execution_count": 21,
   "metadata": {
    "hidden": true
   },
   "outputs": [
    {
     "name": "stdout",
     "output_type": "stream",
     "text": [
      "CPU times: user 686 µs, sys: 42 µs, total: 728 µs\n",
      "Wall time: 334 µs\n"
     ]
    },
    {
     "data": {
      "text/plain": [
       "torch.Size([4, 10])"
      ]
     },
     "execution_count": 21,
     "metadata": {},
     "output_type": "execute_result"
    }
   ],
   "source": [
    "with torch.no_grad():\n",
    "    %time torch_z_fc = fc(z_reshaped)\n",
    "torch_z_fc.shape"
   ]
  },
  {
   "cell_type": "code",
   "execution_count": 22,
   "metadata": {
    "hidden": true
   },
   "outputs": [
    {
     "data": {
      "text/plain": [
       "1.6700226271315621e-13"
      ]
     },
     "execution_count": 22,
     "metadata": {},
     "output_type": "execute_result"
    }
   ],
   "source": [
    "diff_mse(z_fc, torch_z_fc)"
   ]
  },
  {
   "cell_type": "markdown",
   "metadata": {
    "heading_collapsed": true
   },
   "source": [
    "## vector"
   ]
  },
  {
   "cell_type": "markdown",
   "metadata": {
    "heading_collapsed": true,
    "hidden": true
   },
   "source": [
    "#### im2col"
   ]
  },
  {
   "cell_type": "code",
   "execution_count": 23,
   "metadata": {
    "hidden": true
   },
   "outputs": [
    {
     "name": "stdout",
     "output_type": "stream",
     "text": [
      "CPU times: user 7.91 ms, sys: 0 ns, total: 7.91 ms\n",
      "Wall time: 7.53 ms\n"
     ]
    },
    {
     "data": {
      "text/plain": [
       "torch.Size([25, 576])"
      ]
     },
     "execution_count": 23,
     "metadata": {},
     "output_type": "execute_result"
    }
   ],
   "source": [
    "with torch.no_grad():\n",
    "    %time col = im2col(x[0], 5, device).t().contiguous()\n",
    "col.shape"
   ]
  },
  {
   "cell_type": "code",
   "execution_count": 24,
   "metadata": {
    "hidden": true
   },
   "outputs": [
    {
     "name": "stdout",
     "output_type": "stream",
     "text": [
      "CPU times: user 181 µs, sys: 11 µs, total: 192 µs\n",
      "Wall time: 195 µs\n"
     ]
    },
    {
     "data": {
      "text/plain": [
       "torch.Size([25, 576])"
      ]
     },
     "execution_count": 24,
     "metadata": {},
     "output_type": "execute_result"
    }
   ],
   "source": [
    "with torch.no_grad():\n",
    "    %time torch_col = torch.functional.F.unfold(x, 5)[0]\n",
    "torch_col.shape"
   ]
  },
  {
   "cell_type": "code",
   "execution_count": 25,
   "metadata": {
    "hidden": true
   },
   "outputs": [
    {
     "data": {
      "text/plain": [
       "0.0"
      ]
     },
     "execution_count": 25,
     "metadata": {},
     "output_type": "execute_result"
    }
   ],
   "source": [
    "diff_mse(col, torch_col)"
   ]
  },
  {
   "cell_type": "markdown",
   "metadata": {
    "heading_collapsed": true,
    "hidden": true
   },
   "source": [
    "### conv"
   ]
  },
  {
   "cell_type": "code",
   "execution_count": 26,
   "metadata": {
    "hidden": true
   },
   "outputs": [],
   "source": [
    "cl = torch.nn.Conv2d(in_channels=C, out_channels=B, kernel_size=K)\n",
    "w_conv = cl.weight\n",
    "b_conv = cl.bias"
   ]
  },
  {
   "cell_type": "code",
   "execution_count": 27,
   "metadata": {
    "hidden": true
   },
   "outputs": [
    {
     "name": "stdout",
     "output_type": "stream",
     "text": [
      "CPU times: user 96.2 ms, sys: 0 ns, total: 96.2 ms\n",
      "Wall time: 29.7 ms\n"
     ]
    },
    {
     "data": {
      "text/plain": [
       "torch.Size([4, 20, 24, 24])"
      ]
     },
     "execution_count": 27,
     "metadata": {},
     "output_type": "execute_result"
    }
   ],
   "source": [
    "with torch.no_grad():\n",
    "    %time z_conv = conv2d_vector(x, w_conv, b_conv, device)\n",
    "z_conv.shape"
   ]
  },
  {
   "cell_type": "code",
   "execution_count": 28,
   "metadata": {
    "hidden": true
   },
   "outputs": [
    {
     "name": "stdout",
     "output_type": "stream",
     "text": [
      "CPU times: user 570 µs, sys: 39 µs, total: 609 µs\n",
      "Wall time: 389 µs\n"
     ]
    },
    {
     "data": {
      "text/plain": [
       "torch.Size([4, 20, 24, 24])"
      ]
     },
     "execution_count": 28,
     "metadata": {},
     "output_type": "execute_result"
    }
   ],
   "source": [
    "with torch.no_grad():\n",
    "    %time torch_z_conv = cl(x)\n",
    "torch_z_conv.shape"
   ]
  },
  {
   "cell_type": "code",
   "execution_count": 29,
   "metadata": {
    "hidden": true
   },
   "outputs": [
    {
     "data": {
      "text/plain": [
       "3.57074997486286e-15"
      ]
     },
     "execution_count": 29,
     "metadata": {},
     "output_type": "execute_result"
    }
   ],
   "source": [
    "diff_mse(z_conv, torch_z_conv)"
   ]
  },
  {
   "cell_type": "markdown",
   "metadata": {
    "heading_collapsed": true,
    "hidden": true
   },
   "source": [
    "### pool"
   ]
  },
  {
   "cell_type": "code",
   "execution_count": 30,
   "metadata": {
    "hidden": true
   },
   "outputs": [
    {
     "name": "stdout",
     "output_type": "stream",
     "text": [
      "CPU times: user 141 ms, sys: 46 µs, total: 141 ms\n",
      "Wall time: 140 ms\n"
     ]
    },
    {
     "data": {
      "text/plain": [
       "torch.Size([4, 20, 12, 12])"
      ]
     },
     "execution_count": 30,
     "metadata": {},
     "output_type": "execute_result"
    }
   ],
   "source": [
    "with torch.no_grad():\n",
    "    %time z_pool = pool2d_vector(torch_z_conv, device)\n",
    "z_pool.shape"
   ]
  },
  {
   "cell_type": "code",
   "execution_count": 31,
   "metadata": {
    "hidden": true
   },
   "outputs": [
    {
     "name": "stdout",
     "output_type": "stream",
     "text": [
      "CPU times: user 155 µs, sys: 11 µs, total: 166 µs\n",
      "Wall time: 168 µs\n"
     ]
    },
    {
     "data": {
      "text/plain": [
       "torch.Size([4, 20, 12, 12])"
      ]
     },
     "execution_count": 31,
     "metadata": {},
     "output_type": "execute_result"
    }
   ],
   "source": [
    "with torch.no_grad():\n",
    "    %time torch_z_pool = torch.max_pool2d(torch_z_conv, 2)\n",
    "torch_z_pool.shape"
   ]
  },
  {
   "cell_type": "code",
   "execution_count": 32,
   "metadata": {
    "hidden": true
   },
   "outputs": [
    {
     "data": {
      "text/plain": [
       "0.0"
      ]
     },
     "execution_count": 32,
     "metadata": {},
     "output_type": "execute_result"
    }
   ],
   "source": [
    "diff_mse(z_pool, torch_z_pool)"
   ]
  },
  {
   "cell_type": "markdown",
   "metadata": {
    "heading_collapsed": true,
    "hidden": true
   },
   "source": [
    "### reshape"
   ]
  },
  {
   "cell_type": "code",
   "execution_count": 33,
   "metadata": {
    "hidden": true
   },
   "outputs": [
    {
     "name": "stdout",
     "output_type": "stream",
     "text": [
      "CPU times: user 35 µs, sys: 3 µs, total: 38 µs\n",
      "Wall time: 40.1 µs\n"
     ]
    },
    {
     "data": {
      "text/plain": [
       "torch.Size([4, 2880])"
      ]
     },
     "execution_count": 33,
     "metadata": {},
     "output_type": "execute_result"
    }
   ],
   "source": [
    "with torch.no_grad():\n",
    "    %time z_reshaped = reshape_vector(z_pool, device)\n",
    "z_reshaped.shape"
   ]
  },
  {
   "cell_type": "code",
   "execution_count": 34,
   "metadata": {
    "hidden": true
   },
   "outputs": [
    {
     "name": "stdout",
     "output_type": "stream",
     "text": [
      "CPU times: user 29 µs, sys: 2 µs, total: 31 µs\n",
      "Wall time: 33.1 µs\n"
     ]
    },
    {
     "data": {
      "text/plain": [
       "torch.Size([4, 2880])"
      ]
     },
     "execution_count": 34,
     "metadata": {},
     "output_type": "execute_result"
    }
   ],
   "source": [
    "with torch.no_grad():\n",
    "#     %time torch_z_reshaped = torch.reshape(torch_z_pool, (N_batch, -1))\n",
    "    %time torch_z_reshaped = torch_z_pool.view(N_batch, -1)\n",
    "torch_z_reshaped.shape"
   ]
  },
  {
   "cell_type": "code",
   "execution_count": 35,
   "metadata": {
    "hidden": true
   },
   "outputs": [
    {
     "data": {
      "text/plain": [
       "0.0"
      ]
     },
     "execution_count": 35,
     "metadata": {},
     "output_type": "execute_result"
    }
   ],
   "source": [
    "diff_mse(z_reshaped, torch_z_reshaped)"
   ]
  },
  {
   "cell_type": "markdown",
   "metadata": {
    "heading_collapsed": true,
    "hidden": true
   },
   "source": [
    "### relu"
   ]
  },
  {
   "cell_type": "code",
   "execution_count": 36,
   "metadata": {
    "hidden": true
   },
   "outputs": [
    {
     "name": "stdout",
     "output_type": "stream",
     "text": [
      "CPU times: user 306 µs, sys: 22 µs, total: 328 µs\n",
      "Wall time: 242 µs\n"
     ]
    },
    {
     "data": {
      "text/plain": [
       "torch.Size([4, 2880])"
      ]
     },
     "execution_count": 36,
     "metadata": {},
     "output_type": "execute_result"
    }
   ],
   "source": [
    "with torch.no_grad():\n",
    "    %time z_relu = relu_vector(z_reshaped, device)\n",
    "z_relu.shape"
   ]
  },
  {
   "cell_type": "code",
   "execution_count": 37,
   "metadata": {
    "hidden": true
   },
   "outputs": [
    {
     "name": "stdout",
     "output_type": "stream",
     "text": [
      "CPU times: user 111 µs, sys: 8 µs, total: 119 µs\n",
      "Wall time: 75.1 µs\n"
     ]
    },
    {
     "data": {
      "text/plain": [
       "torch.Size([4, 2880])"
      ]
     },
     "execution_count": 37,
     "metadata": {},
     "output_type": "execute_result"
    }
   ],
   "source": [
    "with torch.no_grad():\n",
    "    %time torch_z_relu = torch.relu(z_reshaped)\n",
    "torch_z_relu.shape"
   ]
  },
  {
   "cell_type": "code",
   "execution_count": 38,
   "metadata": {
    "hidden": true
   },
   "outputs": [
    {
     "data": {
      "text/plain": [
       "0.0"
      ]
     },
     "execution_count": 38,
     "metadata": {},
     "output_type": "execute_result"
    }
   ],
   "source": [
    "diff_mse(z_relu, torch_z_relu)"
   ]
  },
  {
   "cell_type": "markdown",
   "metadata": {
    "heading_collapsed": true,
    "hidden": true
   },
   "source": [
    "### fc"
   ]
  },
  {
   "cell_type": "code",
   "execution_count": 39,
   "metadata": {
    "hidden": true
   },
   "outputs": [],
   "source": [
    "fc = torch.nn.Linear(z_reshaped.size(-1), N_classes)\n",
    "w_fc = fc.weight\n",
    "b_fc = fc.bias"
   ]
  },
  {
   "cell_type": "code",
   "execution_count": 40,
   "metadata": {
    "hidden": true
   },
   "outputs": [
    {
     "name": "stdout",
     "output_type": "stream",
     "text": [
      "CPU times: user 331 µs, sys: 24 µs, total: 355 µs\n",
      "Wall time: 188 µs\n"
     ]
    },
    {
     "data": {
      "text/plain": [
       "torch.Size([4, 10])"
      ]
     },
     "execution_count": 40,
     "metadata": {},
     "output_type": "execute_result"
    }
   ],
   "source": [
    "with torch.no_grad():\n",
    "    %time z_fc = fc_layer_vector(z_reshaped, w_fc, b_fc, device)\n",
    "z_fc.shape"
   ]
  },
  {
   "cell_type": "code",
   "execution_count": 41,
   "metadata": {
    "hidden": true
   },
   "outputs": [
    {
     "name": "stdout",
     "output_type": "stream",
     "text": [
      "CPU times: user 189 µs, sys: 14 µs, total: 203 µs\n",
      "Wall time: 179 µs\n"
     ]
    },
    {
     "data": {
      "text/plain": [
       "torch.Size([4, 10])"
      ]
     },
     "execution_count": 41,
     "metadata": {},
     "output_type": "execute_result"
    }
   ],
   "source": [
    "with torch.no_grad():\n",
    "    %time torch_z_fc = fc(z_reshaped)\n",
    "torch_z_fc.shape"
   ]
  },
  {
   "cell_type": "code",
   "execution_count": 42,
   "metadata": {
    "hidden": true
   },
   "outputs": [
    {
     "data": {
      "text/plain": [
       "1.4093761092331806e-15"
      ]
     },
     "execution_count": 42,
     "metadata": {},
     "output_type": "execute_result"
    }
   ],
   "source": [
    "diff_mse(z_fc, torch_z_fc)"
   ]
  },
  {
   "cell_type": "markdown",
   "metadata": {
    "heading_collapsed": true
   },
   "source": [
    "## test"
   ]
  },
  {
   "cell_type": "markdown",
   "metadata": {
    "hidden": true
   },
   "source": [
    "scalar model 10 * 1 batch - too expensive\n",
    "\n",
    "with no_grad (no backward) ~300 times slower than vector model"
   ]
  },
  {
   "cell_type": "code",
   "execution_count": 43,
   "metadata": {
    "hidden": true
   },
   "outputs": [],
   "source": [
    "# %time !python ./simple_conv_net_train.py --log-interval=1 --epochs 1 --type scalar --batch-size 1 --batch-limit 10"
   ]
  },
  {
   "cell_type": "markdown",
   "metadata": {
    "hidden": true
   },
   "source": [
    "vector model 10 * 64 batch"
   ]
  },
  {
   "cell_type": "code",
   "execution_count": 44,
   "metadata": {
    "hidden": true
   },
   "outputs": [
    {
     "name": "stdout",
     "output_type": "stream",
     "text": [
      "Train Epoch: 1 [0/60000 (0%)]\tLoss: 2.334315\n",
      "Train Epoch: 1 [64/60000 (0%)]\tLoss: 2.270116\n",
      "Train Epoch: 1 [128/60000 (0%)]\tLoss: 2.251385\n",
      "Train Epoch: 1 [192/60000 (0%)]\tLoss: 2.199347\n",
      "Train Epoch: 1 [256/60000 (0%)]\tLoss: 2.146911\n",
      "Train Epoch: 1 [320/60000 (1%)]\tLoss: 2.005801\n",
      "Train Epoch: 1 [384/60000 (1%)]\tLoss: 2.041959\n",
      "Train Epoch: 1 [448/60000 (1%)]\tLoss: 2.009930\n",
      "Train Epoch: 1 [512/60000 (1%)]\tLoss: 1.909573\n",
      "Train Epoch: 1 [576/60000 (1%)]\tLoss: 1.879718\n",
      "Train Epoch: 1 [640/60000 (1%)]\tLoss: 1.715644\n",
      "\n",
      "Test set: Average loss: -0.1930, Accuracy: 6252/10000 (62.52%)\n",
      "\n",
      "CPU times: user 4.98 s, sys: 829 ms, total: 5.81 s\n",
      "Wall time: 9min 52s\n"
     ]
    }
   ],
   "source": [
    "%time !python ./simple_conv_net_train.py --log-interval=1 --epochs 1 --type vector --batch-limit 10"
   ]
  },
  {
   "cell_type": "markdown",
   "metadata": {
    "hidden": true
   },
   "source": [
    "built-in model 10 * 64 batch"
   ]
  },
  {
   "cell_type": "code",
   "execution_count": 45,
   "metadata": {
    "hidden": true
   },
   "outputs": [
    {
     "name": "stdout",
     "output_type": "stream",
     "text": [
      "Train Epoch: 1 [0/60000 (0%)]\tLoss: 2.334315\n",
      "Train Epoch: 1 [64/60000 (0%)]\tLoss: 2.270116\n",
      "Train Epoch: 1 [128/60000 (0%)]\tLoss: 2.251385\n",
      "Train Epoch: 1 [192/60000 (0%)]\tLoss: 2.199347\n",
      "Train Epoch: 1 [256/60000 (0%)]\tLoss: 2.146911\n",
      "Train Epoch: 1 [320/60000 (1%)]\tLoss: 2.005801\n",
      "Train Epoch: 1 [384/60000 (1%)]\tLoss: 2.041959\n",
      "Train Epoch: 1 [448/60000 (1%)]\tLoss: 2.009930\n",
      "Train Epoch: 1 [512/60000 (1%)]\tLoss: 1.909573\n",
      "Train Epoch: 1 [576/60000 (1%)]\tLoss: 1.879718\n",
      "Train Epoch: 1 [640/60000 (1%)]\tLoss: 1.715644\n",
      "\n",
      "Test set: Average loss: -0.1930, Accuracy: 6252/10000 (62.52%)\n",
      "\n",
      "CPU times: user 17.5 ms, sys: 12.7 ms, total: 30.2 ms\n",
      "Wall time: 2.22 s\n"
     ]
    }
   ],
   "source": [
    "%time !python ./simple_conv_net_train.py --log-interval=1 --epochs 1 --batch-limit 10"
   ]
  },
  {
   "cell_type": "markdown",
   "metadata": {
    "heading_collapsed": true
   },
   "source": [
    "## train"
   ]
  },
  {
   "cell_type": "markdown",
   "metadata": {
    "hidden": true
   },
   "source": [
    "full built-in model train"
   ]
  },
  {
   "cell_type": "code",
   "execution_count": 46,
   "metadata": {
    "hidden": true,
    "scrolled": true
   },
   "outputs": [
    {
     "name": "stdout",
     "output_type": "stream",
     "text": [
      "Train Epoch: 1 [0/60000 (0%)]\tLoss: 2.334315\n",
      "Train Epoch: 1 [6400/60000 (11%)]\tLoss: 0.319489\n",
      "Train Epoch: 1 [12800/60000 (21%)]\tLoss: 0.274875\n",
      "Train Epoch: 1 [19200/60000 (32%)]\tLoss: 0.362373\n",
      "Train Epoch: 1 [25600/60000 (43%)]\tLoss: 0.191254\n",
      "Train Epoch: 1 [32000/60000 (53%)]\tLoss: 0.173175\n",
      "Train Epoch: 1 [38400/60000 (64%)]\tLoss: 0.156882\n",
      "Train Epoch: 1 [44800/60000 (75%)]\tLoss: 0.124490\n",
      "Train Epoch: 1 [51200/60000 (85%)]\tLoss: 0.096554\n",
      "Train Epoch: 1 [57600/60000 (96%)]\tLoss: 0.095492\n",
      "\n",
      "Test set: Average loss: -0.9235, Accuracy: 9592/10000 (95.92%)\n",
      "\n",
      "Train Epoch: 2 [0/60000 (0%)]\tLoss: 0.120768\n",
      "Train Epoch: 2 [6400/60000 (11%)]\tLoss: 0.056507\n",
      "Train Epoch: 2 [12800/60000 (21%)]\tLoss: 0.258464\n",
      "Train Epoch: 2 [19200/60000 (32%)]\tLoss: 0.117799\n",
      "Train Epoch: 2 [25600/60000 (43%)]\tLoss: 0.111027\n",
      "Train Epoch: 2 [32000/60000 (53%)]\tLoss: 0.037806\n",
      "Train Epoch: 2 [38400/60000 (64%)]\tLoss: 0.120253\n",
      "Train Epoch: 2 [44800/60000 (75%)]\tLoss: 0.069743\n",
      "Train Epoch: 2 [51200/60000 (85%)]\tLoss: 0.033282\n",
      "Train Epoch: 2 [57600/60000 (96%)]\tLoss: 0.146542\n",
      "\n",
      "Test set: Average loss: -0.9436, Accuracy: 9690/10000 (96.90%)\n",
      "\n",
      "Train Epoch: 3 [0/60000 (0%)]\tLoss: 0.053618\n",
      "Train Epoch: 3 [6400/60000 (11%)]\tLoss: 0.020367\n",
      "Train Epoch: 3 [12800/60000 (21%)]\tLoss: 0.114573\n",
      "Train Epoch: 3 [19200/60000 (32%)]\tLoss: 0.047174\n",
      "Train Epoch: 3 [25600/60000 (43%)]\tLoss: 0.021600\n",
      "Train Epoch: 3 [32000/60000 (53%)]\tLoss: 0.071065\n",
      "Train Epoch: 3 [38400/60000 (64%)]\tLoss: 0.089830\n",
      "Train Epoch: 3 [44800/60000 (75%)]\tLoss: 0.045321\n",
      "Train Epoch: 3 [51200/60000 (85%)]\tLoss: 0.134505\n",
      "Train Epoch: 3 [57600/60000 (96%)]\tLoss: 0.039905\n",
      "\n",
      "Test set: Average loss: -0.9617, Accuracy: 9788/10000 (97.88%)\n",
      "\n",
      "Train Epoch: 4 [0/60000 (0%)]\tLoss: 0.020409\n",
      "Train Epoch: 4 [6400/60000 (11%)]\tLoss: 0.044472\n",
      "Train Epoch: 4 [12800/60000 (21%)]\tLoss: 0.015216\n",
      "Train Epoch: 4 [19200/60000 (32%)]\tLoss: 0.106782\n",
      "Train Epoch: 4 [25600/60000 (43%)]\tLoss: 0.037229\n",
      "Train Epoch: 4 [32000/60000 (53%)]\tLoss: 0.085596\n",
      "Train Epoch: 4 [38400/60000 (64%)]\tLoss: 0.025236\n",
      "Train Epoch: 4 [44800/60000 (75%)]\tLoss: 0.253419\n",
      "Train Epoch: 4 [51200/60000 (85%)]\tLoss: 0.036958\n",
      "Train Epoch: 4 [57600/60000 (96%)]\tLoss: 0.045104\n",
      "\n",
      "Test set: Average loss: -0.9692, Accuracy: 9825/10000 (98.25%)\n",
      "\n",
      "Train Epoch: 5 [0/60000 (0%)]\tLoss: 0.042223\n",
      "Train Epoch: 5 [6400/60000 (11%)]\tLoss: 0.031360\n",
      "Train Epoch: 5 [12800/60000 (21%)]\tLoss: 0.151134\n",
      "Train Epoch: 5 [19200/60000 (32%)]\tLoss: 0.013971\n",
      "Train Epoch: 5 [25600/60000 (43%)]\tLoss: 0.029828\n",
      "Train Epoch: 5 [32000/60000 (53%)]\tLoss: 0.008416\n",
      "Train Epoch: 5 [38400/60000 (64%)]\tLoss: 0.059001\n",
      "Train Epoch: 5 [44800/60000 (75%)]\tLoss: 0.047230\n",
      "Train Epoch: 5 [51200/60000 (85%)]\tLoss: 0.033252\n",
      "Train Epoch: 5 [57600/60000 (96%)]\tLoss: 0.068378\n",
      "\n",
      "Test set: Average loss: -0.9654, Accuracy: 9800/10000 (98.00%)\n",
      "\n",
      "Train Epoch: 6 [0/60000 (0%)]\tLoss: 0.071810\n",
      "Train Epoch: 6 [6400/60000 (11%)]\tLoss: 0.031271\n",
      "Train Epoch: 6 [12800/60000 (21%)]\tLoss: 0.016726\n",
      "Train Epoch: 6 [19200/60000 (32%)]\tLoss: 0.046279\n",
      "Train Epoch: 6 [25600/60000 (43%)]\tLoss: 0.033227\n",
      "Train Epoch: 6 [32000/60000 (53%)]\tLoss: 0.052357\n",
      "Train Epoch: 6 [38400/60000 (64%)]\tLoss: 0.064311\n",
      "Train Epoch: 6 [44800/60000 (75%)]\tLoss: 0.037868\n",
      "Train Epoch: 6 [51200/60000 (85%)]\tLoss: 0.016168\n",
      "Train Epoch: 6 [57600/60000 (96%)]\tLoss: 0.056134\n",
      "\n",
      "Test set: Average loss: -0.9746, Accuracy: 9834/10000 (98.34%)\n",
      "\n",
      "Train Epoch: 7 [0/60000 (0%)]\tLoss: 0.020113\n",
      "Train Epoch: 7 [6400/60000 (11%)]\tLoss: 0.037624\n",
      "Train Epoch: 7 [12800/60000 (21%)]\tLoss: 0.033053\n",
      "Train Epoch: 7 [19200/60000 (32%)]\tLoss: 0.010135\n",
      "Train Epoch: 7 [25600/60000 (43%)]\tLoss: 0.040304\n",
      "Train Epoch: 7 [32000/60000 (53%)]\tLoss: 0.005775\n",
      "Train Epoch: 7 [38400/60000 (64%)]\tLoss: 0.037033\n",
      "Train Epoch: 7 [44800/60000 (75%)]\tLoss: 0.042783\n",
      "Train Epoch: 7 [51200/60000 (85%)]\tLoss: 0.005907\n",
      "Train Epoch: 7 [57600/60000 (96%)]\tLoss: 0.119936\n",
      "\n",
      "Test set: Average loss: -0.9769, Accuracy: 9854/10000 (98.54%)\n",
      "\n",
      "Train Epoch: 8 [0/60000 (0%)]\tLoss: 0.012408\n",
      "Train Epoch: 8 [6400/60000 (11%)]\tLoss: 0.009226\n",
      "Train Epoch: 8 [12800/60000 (21%)]\tLoss: 0.010199\n",
      "Train Epoch: 8 [19200/60000 (32%)]\tLoss: 0.010294\n",
      "Train Epoch: 8 [25600/60000 (43%)]\tLoss: 0.004523\n",
      "Train Epoch: 8 [32000/60000 (53%)]\tLoss: 0.038246\n",
      "Train Epoch: 8 [38400/60000 (64%)]\tLoss: 0.008450\n",
      "Train Epoch: 8 [44800/60000 (75%)]\tLoss: 0.016299\n",
      "Train Epoch: 8 [51200/60000 (85%)]\tLoss: 0.017291\n",
      "Train Epoch: 8 [57600/60000 (96%)]\tLoss: 0.016771\n",
      "\n",
      "Test set: Average loss: -0.9783, Accuracy: 9855/10000 (98.55%)\n",
      "\n",
      "Train Epoch: 9 [0/60000 (0%)]\tLoss: 0.033425\n",
      "Train Epoch: 9 [6400/60000 (11%)]\tLoss: 0.004461\n",
      "Train Epoch: 9 [12800/60000 (21%)]\tLoss: 0.086001\n",
      "Train Epoch: 9 [19200/60000 (32%)]\tLoss: 0.019525\n",
      "Train Epoch: 9 [25600/60000 (43%)]\tLoss: 0.014095\n",
      "Train Epoch: 9 [32000/60000 (53%)]\tLoss: 0.040888\n",
      "Train Epoch: 9 [38400/60000 (64%)]\tLoss: 0.003066\n",
      "Train Epoch: 9 [44800/60000 (75%)]\tLoss: 0.002511\n",
      "Train Epoch: 9 [51200/60000 (85%)]\tLoss: 0.069644\n",
      "Train Epoch: 9 [57600/60000 (96%)]\tLoss: 0.021947\n",
      "\n",
      "Test set: Average loss: -0.9786, Accuracy: 9855/10000 (98.55%)\n",
      "\n",
      "Train Epoch: 10 [0/60000 (0%)]\tLoss: 0.012186\n",
      "Train Epoch: 10 [6400/60000 (11%)]\tLoss: 0.024986\n",
      "Train Epoch: 10 [12800/60000 (21%)]\tLoss: 0.003111\n",
      "Train Epoch: 10 [19200/60000 (32%)]\tLoss: 0.014319\n",
      "Train Epoch: 10 [25600/60000 (43%)]\tLoss: 0.007767\n",
      "Train Epoch: 10 [32000/60000 (53%)]\tLoss: 0.025664\n",
      "Train Epoch: 10 [38400/60000 (64%)]\tLoss: 0.056342\n",
      "Train Epoch: 10 [44800/60000 (75%)]\tLoss: 0.003760\n",
      "Train Epoch: 10 [51200/60000 (85%)]\tLoss: 0.022364\n",
      "Train Epoch: 10 [57600/60000 (96%)]\tLoss: 0.014219\n",
      "\n",
      "Test set: Average loss: -0.9793, Accuracy: 9857/10000 (98.57%)\n",
      "\n",
      "Train Epoch: 11 [0/60000 (0%)]\tLoss: 0.001923\n",
      "Train Epoch: 11 [6400/60000 (11%)]\tLoss: 0.014338\n",
      "Train Epoch: 11 [12800/60000 (21%)]\tLoss: 0.023787\n",
      "Train Epoch: 11 [19200/60000 (32%)]\tLoss: 0.016691\n",
      "Train Epoch: 11 [25600/60000 (43%)]\tLoss: 0.025443\n",
      "Train Epoch: 11 [32000/60000 (53%)]\tLoss: 0.002976\n",
      "Train Epoch: 11 [38400/60000 (64%)]\tLoss: 0.003465\n",
      "Train Epoch: 11 [44800/60000 (75%)]\tLoss: 0.001823\n",
      "Train Epoch: 11 [51200/60000 (85%)]\tLoss: 0.006221\n",
      "Train Epoch: 11 [57600/60000 (96%)]\tLoss: 0.012681\n",
      "\n",
      "Test set: Average loss: -0.9801, Accuracy: 9862/10000 (98.62%)\n",
      "\n",
      "Train Epoch: 12 [0/60000 (0%)]\tLoss: 0.005942\n",
      "Train Epoch: 12 [6400/60000 (11%)]\tLoss: 0.020567\n",
      "Train Epoch: 12 [12800/60000 (21%)]\tLoss: 0.019461\n",
      "Train Epoch: 12 [19200/60000 (32%)]\tLoss: 0.025884\n",
      "Train Epoch: 12 [25600/60000 (43%)]\tLoss: 0.022520\n",
      "Train Epoch: 12 [32000/60000 (53%)]\tLoss: 0.019709\n",
      "Train Epoch: 12 [38400/60000 (64%)]\tLoss: 0.016091\n",
      "Train Epoch: 12 [44800/60000 (75%)]\tLoss: 0.015831\n",
      "Train Epoch: 12 [51200/60000 (85%)]\tLoss: 0.009509\n",
      "Train Epoch: 12 [57600/60000 (96%)]\tLoss: 0.008974\n",
      "\n",
      "Test set: Average loss: -0.9817, Accuracy: 9870/10000 (98.70%)\n",
      "\n",
      "Train Epoch: 13 [0/60000 (0%)]\tLoss: 0.006338\n",
      "Train Epoch: 13 [6400/60000 (11%)]\tLoss: 0.030821\n",
      "Train Epoch: 13 [12800/60000 (21%)]\tLoss: 0.003753\n",
      "Train Epoch: 13 [19200/60000 (32%)]\tLoss: 0.001786\n",
      "Train Epoch: 13 [25600/60000 (43%)]\tLoss: 0.020601\n",
      "Train Epoch: 13 [32000/60000 (53%)]\tLoss: 0.006461\n",
      "Train Epoch: 13 [38400/60000 (64%)]\tLoss: 0.012094\n",
      "Train Epoch: 13 [44800/60000 (75%)]\tLoss: 0.039188\n",
      "Train Epoch: 13 [51200/60000 (85%)]\tLoss: 0.019056\n",
      "Train Epoch: 13 [57600/60000 (96%)]\tLoss: 0.008983\n",
      "\n",
      "Test set: Average loss: -0.9826, Accuracy: 9872/10000 (98.72%)\n",
      "\n",
      "Train Epoch: 14 [0/60000 (0%)]\tLoss: 0.004576\n",
      "Train Epoch: 14 [6400/60000 (11%)]\tLoss: 0.006382\n",
      "Train Epoch: 14 [12800/60000 (21%)]\tLoss: 0.003526\n",
      "Train Epoch: 14 [19200/60000 (32%)]\tLoss: 0.002719\n",
      "Train Epoch: 14 [25600/60000 (43%)]\tLoss: 0.011587\n",
      "Train Epoch: 14 [32000/60000 (53%)]\tLoss: 0.007892\n",
      "Train Epoch: 14 [38400/60000 (64%)]\tLoss: 0.006174\n",
      "Train Epoch: 14 [44800/60000 (75%)]\tLoss: 0.010725\n",
      "Train Epoch: 14 [51200/60000 (85%)]\tLoss: 0.003876\n",
      "Train Epoch: 14 [57600/60000 (96%)]\tLoss: 0.023093\n",
      "\n",
      "Test set: Average loss: -0.9829, Accuracy: 9869/10000 (98.69%)\n",
      "\n",
      "Train Epoch: 15 [0/60000 (0%)]\tLoss: 0.003060\n",
      "Train Epoch: 15 [6400/60000 (11%)]\tLoss: 0.003055\n",
      "Train Epoch: 15 [12800/60000 (21%)]\tLoss: 0.004312\n",
      "Train Epoch: 15 [19200/60000 (32%)]\tLoss: 0.062563\n",
      "Train Epoch: 15 [25600/60000 (43%)]\tLoss: 0.001076\n",
      "Train Epoch: 15 [32000/60000 (53%)]\tLoss: 0.004547\n",
      "Train Epoch: 15 [38400/60000 (64%)]\tLoss: 0.010342\n"
     ]
    },
    {
     "name": "stdout",
     "output_type": "stream",
     "text": [
      "Train Epoch: 15 [44800/60000 (75%)]\tLoss: 0.002306\n",
      "Train Epoch: 15 [51200/60000 (85%)]\tLoss: 0.012122\n",
      "Train Epoch: 15 [57600/60000 (96%)]\tLoss: 0.002167\n",
      "\n",
      "Test set: Average loss: -0.9841, Accuracy: 9881/10000 (98.81%)\n",
      "\n",
      "Train Epoch: 16 [0/60000 (0%)]\tLoss: 0.005876\n",
      "Train Epoch: 16 [6400/60000 (11%)]\tLoss: 0.002767\n",
      "Train Epoch: 16 [12800/60000 (21%)]\tLoss: 0.008380\n",
      "Train Epoch: 16 [19200/60000 (32%)]\tLoss: 0.003906\n",
      "Train Epoch: 16 [25600/60000 (43%)]\tLoss: 0.004492\n",
      "Train Epoch: 16 [32000/60000 (53%)]\tLoss: 0.032964\n",
      "Train Epoch: 16 [38400/60000 (64%)]\tLoss: 0.001586\n",
      "Train Epoch: 16 [44800/60000 (75%)]\tLoss: 0.016801\n",
      "Train Epoch: 16 [51200/60000 (85%)]\tLoss: 0.003574\n",
      "Train Epoch: 16 [57600/60000 (96%)]\tLoss: 0.007453\n",
      "\n",
      "Test set: Average loss: -0.9839, Accuracy: 9878/10000 (98.78%)\n",
      "\n",
      "Train Epoch: 17 [0/60000 (0%)]\tLoss: 0.001103\n",
      "Train Epoch: 17 [6400/60000 (11%)]\tLoss: 0.002716\n",
      "Train Epoch: 17 [12800/60000 (21%)]\tLoss: 0.003643\n",
      "Train Epoch: 17 [19200/60000 (32%)]\tLoss: 0.032085\n",
      "Train Epoch: 17 [25600/60000 (43%)]\tLoss: 0.015612\n",
      "Train Epoch: 17 [32000/60000 (53%)]\tLoss: 0.008042\n",
      "Train Epoch: 17 [38400/60000 (64%)]\tLoss: 0.017176\n",
      "Train Epoch: 17 [44800/60000 (75%)]\tLoss: 0.015432\n",
      "Train Epoch: 17 [51200/60000 (85%)]\tLoss: 0.013066\n",
      "Train Epoch: 17 [57600/60000 (96%)]\tLoss: 0.003150\n",
      "\n",
      "Test set: Average loss: -0.9838, Accuracy: 9873/10000 (98.73%)\n",
      "\n",
      "Train Epoch: 18 [0/60000 (0%)]\tLoss: 0.002261\n",
      "Train Epoch: 18 [6400/60000 (11%)]\tLoss: 0.004409\n",
      "Train Epoch: 18 [12800/60000 (21%)]\tLoss: 0.003735\n",
      "Train Epoch: 18 [19200/60000 (32%)]\tLoss: 0.004717\n",
      "Train Epoch: 18 [25600/60000 (43%)]\tLoss: 0.008644\n",
      "Train Epoch: 18 [32000/60000 (53%)]\tLoss: 0.000333\n",
      "Train Epoch: 18 [38400/60000 (64%)]\tLoss: 0.003116\n",
      "Train Epoch: 18 [44800/60000 (75%)]\tLoss: 0.002152\n",
      "Train Epoch: 18 [51200/60000 (85%)]\tLoss: 0.005278\n",
      "Train Epoch: 18 [57600/60000 (96%)]\tLoss: 0.004675\n",
      "\n",
      "Test set: Average loss: -0.9837, Accuracy: 9872/10000 (98.72%)\n",
      "\n",
      "Train Epoch: 19 [0/60000 (0%)]\tLoss: 0.001826\n",
      "Train Epoch: 19 [6400/60000 (11%)]\tLoss: 0.001548\n",
      "Train Epoch: 19 [12800/60000 (21%)]\tLoss: 0.005273\n",
      "Train Epoch: 19 [19200/60000 (32%)]\tLoss: 0.002169\n",
      "Train Epoch: 19 [25600/60000 (43%)]\tLoss: 0.005077\n",
      "Train Epoch: 19 [32000/60000 (53%)]\tLoss: 0.005016\n",
      "Train Epoch: 19 [38400/60000 (64%)]\tLoss: 0.000545\n",
      "Train Epoch: 19 [44800/60000 (75%)]\tLoss: 0.002008\n",
      "Train Epoch: 19 [51200/60000 (85%)]\tLoss: 0.003864\n",
      "Train Epoch: 19 [57600/60000 (96%)]\tLoss: 0.004927\n",
      "\n",
      "Test set: Average loss: -0.9834, Accuracy: 9867/10000 (98.67%)\n",
      "\n",
      "Train Epoch: 20 [0/60000 (0%)]\tLoss: 0.002880\n",
      "Train Epoch: 20 [6400/60000 (11%)]\tLoss: 0.003257\n",
      "Train Epoch: 20 [12800/60000 (21%)]\tLoss: 0.000668\n",
      "Train Epoch: 20 [19200/60000 (32%)]\tLoss: 0.000615\n",
      "Train Epoch: 20 [25600/60000 (43%)]\tLoss: 0.001161\n",
      "Train Epoch: 20 [32000/60000 (53%)]\tLoss: 0.002600\n",
      "Train Epoch: 20 [38400/60000 (64%)]\tLoss: 0.004259\n",
      "Train Epoch: 20 [44800/60000 (75%)]\tLoss: 0.001098\n",
      "Train Epoch: 20 [51200/60000 (85%)]\tLoss: 0.002019\n",
      "Train Epoch: 20 [57600/60000 (96%)]\tLoss: 0.001649\n",
      "\n",
      "Test set: Average loss: -0.9853, Accuracy: 9878/10000 (98.78%)\n",
      "\n",
      "CPU times: user 3.9 s, sys: 662 ms, total: 4.56 s\n",
      "Wall time: 5min 56s\n"
     ]
    }
   ],
   "source": [
    "%time !python ./simple_conv_net_train.py --log-interval=100 --epochs 20 --save-model"
   ]
  },
  {
   "cell_type": "markdown",
   "metadata": {
    "hidden": true
   },
   "source": [
    "full vector model train"
   ]
  },
  {
   "cell_type": "markdown",
   "metadata": {
    "hidden": true
   },
   "source": [
    "~30 hours to train! let's compare tiny piece (from test)"
   ]
  },
  {
   "cell_type": "code",
   "execution_count": null,
   "metadata": {
    "hidden": true
   },
   "outputs": [],
   "source": [
    "%time !python ./simple_conv_net_train.py --log-interval=100 --epochs 20 --type vector --save-model"
   ]
  },
  {
   "cell_type": "markdown",
   "metadata": {
    "heading_collapsed": true
   },
   "source": [
    "## summary"
   ]
  },
  {
   "cell_type": "markdown",
   "metadata": {
    "hidden": true
   },
   "source": [
    "After `1` epoch of just `10` batches with size `64` (640 pics only) we did test on vector model and built-in pytorch"
   ]
  },
  {
   "cell_type": "markdown",
   "metadata": {
    "hidden": true
   },
   "source": [
    "|model|time|accuracy|\n",
    "|-|-|-|\n",
    "|vector|9min 52s|62.52%|\n",
    "|pytorch|2.22s|62.52%|"
   ]
  },
  {
   "cell_type": "markdown",
   "metadata": {
    "hidden": true
   },
   "source": [
    "Python implementation even in vector form is almost 300 times slower than built-in pytorch\n",
    "\n",
    "The accuracy is near the same value - models seem to work in a similar way\n",
    "\n",
    "Scalar model is much slower than vector one - no results for comparison; but MSEs shows good quality of implementation\n",
    "\n",
    "$$t_{scalar} \\approx 300 \\times t_{vector} \\approx 10K \\times t_{torch}$$\n",
    "$$t_{vector} \\approx 300 \\times t_{torch}$$\n",
    "\n",
    "All tests were at `Intel(R) Core(TM) i7-6700 CPU @ 3.40GHz, 4 Cores, 8 Threads` machine"
   ]
  }
 ],
 "metadata": {
  "kernelspec": {
   "display_name": "Python 3",
   "language": "python",
   "name": "python3"
  },
  "toc": {
   "base_numbering": 1,
   "nav_menu": {},
   "number_sections": true,
   "sideBar": true,
   "skip_h1_title": false,
   "title_cell": "Table of Contents",
   "title_sidebar": "Contents",
   "toc_cell": false,
   "toc_position": {},
   "toc_section_display": true,
   "toc_window_display": false
  },
  "varInspector": {
   "cols": {
    "lenName": 16,
    "lenType": 16,
    "lenVar": 40
   },
   "kernels_config": {
    "python": {
     "delete_cmd_postfix": "",
     "delete_cmd_prefix": "del ",
     "library": "var_list.py",
     "varRefreshCmd": "print(var_dic_list())"
    },
    "r": {
     "delete_cmd_postfix": ") ",
     "delete_cmd_prefix": "rm(",
     "library": "var_list.r",
     "varRefreshCmd": "cat(var_dic_list()) "
    }
   },
   "types_to_exclude": [
    "module",
    "function",
    "builtin_function_or_method",
    "instance",
    "_Feature"
   ],
   "window_display": false
  }
 },
 "nbformat": 4,
 "nbformat_minor": 2
}
